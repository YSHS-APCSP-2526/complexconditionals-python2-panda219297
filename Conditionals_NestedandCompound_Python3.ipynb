{
  "nbformat": 4,
  "nbformat_minor": 0,
  "metadata": {
    "colab": {
      "provenance": [],
      "include_colab_link": true
    },
    "kernelspec": {
      "name": "python3",
      "display_name": "Python 3"
    },
    "language_info": {
      "name": "python"
    }
  },
  "cells": [
    {
      "cell_type": "markdown",
      "metadata": {
        "id": "view-in-github",
        "colab_type": "text"
      },
      "source": [
        "<a href=\"https://colab.research.google.com/github/YSHS-APCSP-2526/complexconditionals-python2-panda219297/blob/main/Conditionals_NestedandCompound_Python3.ipynb\" target=\"_parent\"><img src=\"https://colab.research.google.com/assets/colab-badge.svg\" alt=\"Open In Colab\"/></a>"
      ]
    },
    {
      "cell_type": "markdown",
      "source": [
        "#Assignment 3: Complex Conditionals (Nested + Compound)\n",
        "Vocabulary\n",
        "\n",
        "**Nested conditional**: An if inside another if.\n",
        "\n",
        "**Compound condition**: A condition joined with and or or.\n",
        "\n",
        "**Boolean expression**: A statement that is True or False."
      ],
      "metadata": {
        "id": "i33jDObG3GYg"
      }
    },
    {
      "cell_type": "markdown",
      "source": [
        "Walkthrough: Nested and Compound Conditions\n",
        "\n",
        "Here’s a function that checks if someone is eligible to vote:"
      ],
      "metadata": {
        "id": "1DbhWam83XYf"
      }
    },
    {
      "cell_type": "code",
      "execution_count": 6,
      "metadata": {
        "id": "HE0LSsXs3DBA"
      },
      "outputs": [],
      "source": [
        "def can_vote(age, citizen):\n",
        "    if age >= 18:\n",
        "        if citizen:\n",
        "            return \"Eligible\"\n",
        "        else:\n",
        "            return \"Not eligible (not a citizen)\"\n",
        "    else:\n",
        "        return \"Not eligible (too young)\"\n"
      ]
    },
    {
      "cell_type": "code",
      "source": [
        "print(can_vote(20, True))   # Eligible\n",
        "print(can_vote(16, True))   # Not eligible (too young)\n",
        "print(can_vote(20, False))  # Not eligible (not a citizen)"
      ],
      "metadata": {
        "colab": {
          "base_uri": "https://localhost:8080/"
        },
        "id": "QnpE5lTh33GU",
        "outputId": "02d76beb-a7f0-4bd1-924f-f98968da7efe"
      },
      "execution_count": 7,
      "outputs": [
        {
          "output_type": "stream",
          "name": "stdout",
          "text": [
            "Eligible\n",
            "Not eligible (too young)\n",
            "Not eligible (not a citizen)\n"
          ]
        }
      ]
    },
    {
      "cell_type": "markdown",
      "source": [
        "\n",
        "Here’s the same idea using a compound condition:"
      ],
      "metadata": {
        "id": "r3A4k5aI4EMN"
      }
    },
    {
      "cell_type": "code",
      "source": [
        "def can_vote(age, citizen):\n",
        "    if age >= 18 and citizen:\n",
        "        return \"Eligible\"\n",
        "    else:\n",
        "        return \"Not eligible\"\n"
      ],
      "metadata": {
        "id": "xCyeSz5u4KEq"
      },
      "execution_count": 3,
      "outputs": []
    },
    {
      "cell_type": "code",
      "source": [
        "print(can_vote(20, True))   # Eligible\n",
        "print(can_vote(16, True))   # Not eligible (too young)\n",
        "print(can_vote(20, False))  # Not eligible (not a citizen)"
      ],
      "metadata": {
        "colab": {
          "base_uri": "https://localhost:8080/"
        },
        "id": "uUnqUKQG4RkC",
        "outputId": "d41eaf09-8efb-4c80-ea21-3e5676db92f8"
      },
      "execution_count": 4,
      "outputs": [
        {
          "output_type": "stream",
          "name": "stdout",
          "text": [
            "Eligible\n",
            "Not eligible\n",
            "Not eligible\n"
          ]
        }
      ]
    },
    {
      "cell_type": "markdown",
      "source": [
        "#Activity 1: Ticket Price\n",
        "\n",
        "Write a function ticket_price(age, is_student) that:\n",
        "\n",
        "Returns 8 if under 12 or if a student.\n",
        "\n",
        "Returns 10 if 12–64 and not a student.\n",
        "\n",
        "Returns 7 if 65 or older.\n",
        "\n",
        "Examples:\n",
        "\n",
        "\n",
        "```\n",
        "\n",
        "print(ticket_price(10, False))  # 8\n",
        "print(ticket_price(20, True))   # 8\n",
        "print(ticket_price(30, False))  # 10\n",
        "print(ticket_price(70, False))  # 7\n",
        "\n",
        "```"
      ],
      "metadata": {
        "id": "rEWODLYA5VL2"
      }
    },
    {
      "cell_type": "code",
      "source": [
        "#write a ticket_price() function here\n",
        "\n",
        "def ticket_price(age,is_student):\n",
        "  if age<12 or is_student:\n",
        "    return \"8 (is a student)\"\n",
        "  elif age<64:\n",
        "    return \"10 (not a student)\"\n",
        "  else:\n",
        "    return \"7 (older)\"\n",
        "\n",
        "print(ticket_price(10, False))  # 8\n",
        "print(ticket_price(20, True))   # 8\n",
        "print(ticket_price(30, False))  # 10\n",
        "print(ticket_price(70, False))  # 7\n"
      ],
      "metadata": {
        "id": "0O12jhe25oxm",
        "outputId": "04f8d119-c76d-4990-ace4-fa9eec2d459d",
        "colab": {
          "base_uri": "https://localhost:8080/"
        }
      },
      "execution_count": 21,
      "outputs": [
        {
          "output_type": "stream",
          "name": "stdout",
          "text": [
            "8 (is a student)\n",
            "8 (is a student)\n",
            "10 (not a student)\n",
            "7 (older)\n"
          ]
        }
      ]
    },
    {
      "cell_type": "markdown",
      "source": [
        "##Activity 2: Triangle Type\n",
        "\n",
        "Write a function triangle_type(a, b, c) that:\n",
        "\n",
        "Returns \"Equilateral\" if all sides are equal.\n",
        "\n",
        "Returns \"Isosceles\" if two sides are equal.\n",
        "\n",
        "Returns \"Scalene\" if all sides are different.\n",
        "\n",
        "\n",
        "\n",
        "```\n",
        "print(triangle_type(3, 3, 3))  # Equilateral\n",
        "print(triangle_type(3, 4, 3))  # Isosceles\n",
        "print(triangle_type(3, 4, 5))  # Scalene\n",
        "```\n",
        "\n"
      ],
      "metadata": {
        "id": "O4mdumeK50aI"
      }
    },
    {
      "cell_type": "code",
      "source": [
        "# write your triangle_type() function here\n",
        "\n",
        "def triangle_type(a,b,c):\n",
        "  if triangle_type(a,a,a):\n",
        "    return \"Equilateral\"\n",
        "  elif triangle_type(a,b,a):\n",
        "    return \"Isosceles\"\n",
        "  else:\n",
        "    return \"Scalene\"\n",
        "\n",
        "print(triangle_type(3, 3, 3))  # Equilateral\n",
        "print(triangle_type(3, 4, 3))  # Isosceles\n",
        "print(triangle_type(3, 4, 5))  # Scalene\n"
      ],
      "metadata": {
        "id": "oNrREwYc59eD",
        "outputId": "8e62e592-4ed0-4bdb-dd88-fc461c48b5ef",
        "colab": {
          "base_uri": "https://localhost:8080/"
        }
      },
      "execution_count": null,
      "outputs": [
        {
          "output_type": "stream",
          "name": "stderr",
          "text": [
            "ERROR:root:Internal Python error in the inspect module.\n",
            "Below is the traceback from this internal error.\n",
            "\n"
          ]
        }
      ]
    },
    {
      "cell_type": "markdown",
      "source": [
        "##Activity 3: Login System\n",
        "\n",
        "Write a function login(username, password) that:\n",
        "\n",
        "Returns \"Access granted\" if username is \"admin\" and password is \"secret\".\n",
        "\n",
        "Returns \"Access denied\" otherwise."
      ],
      "metadata": {
        "id": "Q5LIpRVp6HTI"
      }
    },
    {
      "cell_type": "code",
      "source": [
        "#write your login system function here"
      ],
      "metadata": {
        "id": "wGu-TSbb6OCJ"
      },
      "execution_count": null,
      "outputs": []
    },
    {
      "cell_type": "markdown",
      "source": [
        "## Activity 4: Rock-Paper-Scissors\n",
        "\n",
        "Write a function rps(player1, player2) where each argument is \"rock\", \"paper\", or \"scissors\".\n",
        "Return:\n",
        "\n",
        "\"Tie\" if both are the same.\n",
        "\n",
        "\"Player 1 wins\" if player 1 beats player 2.\n",
        "\n",
        "\"Player 2 wins\" otherwise.\n",
        "\n",
        "**Extra challenge is to get users to input their selection into the terminal**"
      ],
      "metadata": {
        "id": "RjKsbR6t6ZGa"
      }
    },
    {
      "cell_type": "code",
      "source": [
        "#write your rock_paper_scissors() function here"
      ],
      "metadata": {
        "id": "SDwbpJpF6r5E"
      },
      "execution_count": null,
      "outputs": []
    },
    {
      "cell_type": "code",
      "source": [],
      "metadata": {
        "id": "tMk_BDyM68Br"
      },
      "execution_count": null,
      "outputs": []
    },
    {
      "cell_type": "markdown",
      "source": [
        "##The Modulo Operator\n",
        "\n",
        "The modulo operator (%) gives the remainder after division.\n",
        "\n",
        "7 % 3 → 1 (because 7 ÷ 3 = 2 remainder 1)\n",
        "\n",
        "10 % 2 → 0 (because 10 ÷ 2 = 5 remainder 0)\n",
        "\n",
        "14 % 5 → 4 (because 14 ÷ 5 = 2 remainder 4)\n",
        "\n",
        "This is useful in many programs, such as checking whether a number is even or odd."
      ],
      "metadata": {
        "id": "ZtDaq_fl68Yi"
      }
    },
    {
      "cell_type": "code",
      "source": [
        "def isEven(n):\n",
        "    if n % 2 == 0:\n",
        "        return True\n",
        "    else:\n",
        "        return False\n",
        "\n",
        "print(isEven(10))  # True\n",
        "print(isEven(7))   # False\n"
      ],
      "metadata": {
        "id": "QWzkLygZ7BjU"
      },
      "execution_count": null,
      "outputs": []
    },
    {
      "cell_type": "markdown",
      "source": [
        "##Activity 5\n",
        "Write a function isMultipleOf3(n) that returns True if n is a multiple of 3, and False otherwise.\n",
        "Test it with at least three different values."
      ],
      "metadata": {
        "id": "NFZI3NpW7GVI"
      }
    },
    {
      "cell_type": "code",
      "source": [
        "# Write isMultipleOf3() function here"
      ],
      "metadata": {
        "id": "we2iu4Yv7INk"
      },
      "execution_count": null,
      "outputs": []
    },
    {
      "cell_type": "markdown",
      "source": [
        "##Activity 6: Leap Year\n",
        "\n",
        "Write a function is_leap_year(year) that returns True if a year is a leap year, and False otherwise.\n",
        "A leap year is:\n",
        "*italicized text*\n",
        "Divisible by 4, and\n",
        "\n",
        "Not divisible by 100, unless also divisible by 400.\n",
        "\n",
        "\n",
        "\n",
        "```\n",
        "print(is_leap_year(2000))  # True\n",
        "print(is_leap_year(1900))  # False\n",
        "print(is_leap_year(2024))  # True\n",
        "```\n",
        "\n"
      ],
      "metadata": {
        "id": "G8G53MNb4Wgd"
      }
    },
    {
      "cell_type": "code",
      "source": [
        "# Write is_leap_year() function here"
      ],
      "metadata": {
        "id": "GkiUHmV-4b-n"
      },
      "execution_count": null,
      "outputs": []
    },
    {
      "cell_type": "markdown",
      "source": [
        "##Randomness\n",
        "\n",
        "Sometimes we want our program to behave differently each time it runs. Python has a random module that helps us do this.\n",
        "\n",
        "First, we import it at the top of our code:\n",
        "\n",
        "\n",
        "\n",
        "```\n",
        "import random\n",
        "```\n",
        "Below is an example function that incorporates randomness called random number\n"
      ],
      "metadata": {
        "id": "1AAtGZgQ_Ny6"
      }
    },
    {
      "cell_type": "code",
      "source": [
        "import random\n",
        "\n",
        "def randomDice():\n",
        "    roll = random.randint(1, 6)   # gives a random number from 1 to 6 (inclusive)\n",
        "    return roll\n",
        "\n",
        "print(randomDice())\n",
        "print(randomDice())\n"
      ],
      "metadata": {
        "colab": {
          "base_uri": "https://localhost:8080/"
        },
        "id": "hO8JIZWx_wSx",
        "outputId": "709462e7-124c-464f-879d-4f2e7f93ab7c"
      },
      "execution_count": null,
      "outputs": [
        {
          "output_type": "stream",
          "name": "stdout",
          "text": [
            "1\n",
            "2\n"
          ]
        }
      ]
    },
    {
      "cell_type": "markdown",
      "source": [
        "##Activity 7: Random Even Number\n",
        "Write a function randomEven() that returns a random even number between 2 and 20.\n",
        "(Hint: You can use random.randint(1, 10) and then multiply the result by 2.)\n",
        "\n",
        "Example:\n",
        "\n",
        "```\n",
        "print(randomEven())  # could be 2, 4, 6, …, 20\n",
        "```\n"
      ],
      "metadata": {
        "id": "bcJ5-epU7H7z"
      }
    },
    {
      "cell_type": "code",
      "source": [
        "#Write randomEven() here"
      ],
      "metadata": {
        "id": "EvqoHaVIAGcT"
      },
      "execution_count": null,
      "outputs": []
    },
    {
      "cell_type": "markdown",
      "source": [
        "##Activity 8: Random Password Helper\n",
        "\n",
        "Write a function randomChar() that returns a random lowercase letter between 'a' and 'z'.\n",
        "(Hint: Use random.randint(97, 122) to pick a Unicode number, and then chr() to turn it into a letter.)\n",
        "\n",
        "\n",
        "\n",
        "```\n",
        "print(randomChar())  # could be 'q'\n",
        "print(randomChar())  # could be 'm'\n",
        "\n",
        "```\n",
        "\n"
      ],
      "metadata": {
        "id": "bxQKB6zuAO5W"
      }
    },
    {
      "cell_type": "code",
      "source": [
        "# write the randomChar() function here"
      ],
      "metadata": {
        "id": "nLcg4jAkAmMa"
      },
      "execution_count": null,
      "outputs": []
    },
    {
      "cell_type": "markdown",
      "source": [
        "##Activity 9: Hack it\n",
        "\n",
        "Incorporate the main ideas from this activity and make a function that does something!"
      ],
      "metadata": {
        "id": "VDlrFC4nAt8M"
      }
    },
    {
      "cell_type": "code",
      "source": [
        "#Write your function here"
      ],
      "metadata": {
        "id": "KA2iYqoVA4Mt"
      },
      "execution_count": null,
      "outputs": []
    }
  ]
}